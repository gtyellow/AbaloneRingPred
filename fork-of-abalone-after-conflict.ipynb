{
 "cells": [
  {
   "cell_type": "code",
   "execution_count": 1,
   "id": "eaff241e",
   "metadata": {
    "_cell_guid": "b1076dfc-b9ad-4769-8c92-a6c4dae69d19",
    "_uuid": "8f2839f25d086af736a60e9eeb907d3b93b6e0e5",
    "execution": {
     "iopub.execute_input": "2024-04-23T19:16:34.947552Z",
     "iopub.status.busy": "2024-04-23T19:16:34.947103Z",
     "iopub.status.idle": "2024-04-23T19:16:37.656104Z",
     "shell.execute_reply": "2024-04-23T19:16:37.655018Z"
    },
    "papermill": {
     "duration": 2.721284,
     "end_time": "2024-04-23T19:16:37.658984",
     "exception": false,
     "start_time": "2024-04-23T19:16:34.937700",
     "status": "completed"
    },
    "tags": []
   },
   "outputs": [
    {
     "name": "stdout",
     "output_type": "stream",
     "text": [
      "/kaggle/input/playground-series-s4e4/sample_submission.csv\n",
      "/kaggle/input/playground-series-s4e4/train.csv\n",
      "/kaggle/input/playground-series-s4e4/test.csv\n"
     ]
    }
   ],
   "source": [
    "\n",
    "\n",
    "import numpy as np # linear algebra\n",
    "import pandas as pd # data processing, CSV file I/O (e.g. pd.read_csv)\n",
    "\n",
    "\n",
    "import os\n",
    "for dirname, _, filenames in os.walk('/kaggle/input'):\n",
    "    for filename in filenames:\n",
    "        print(os.path.join(dirname, filename))\n",
    "\n",
    "import sklearn\n",
    "\n",
    "from sklearn.model_selection import train_test_split\n",
    "from sklearn.ensemble import RandomForestRegressor,GradientBoostingRegressor, HistGradientBoostingRegressor, ExtraTreesRegressor\n",
    "from sklearn.neural_network import MLPRegressor\n",
    "\n",
    "from sklearn.model_selection import cross_val_score\n",
    "from sklearn.ensemble import StackingRegressor\n",
    "from sklearn.metrics import make_scorer\n",
    "from sklearn.model_selection import GridSearchCV\n",
    "from sklearn.preprocessing import StandardScaler\n",
    "\n",
    "import optuna"
   ]
  },
  {
   "cell_type": "code",
   "execution_count": 2,
   "id": "8e701c99",
   "metadata": {
    "execution": {
     "iopub.execute_input": "2024-04-23T19:16:37.675438Z",
     "iopub.status.busy": "2024-04-23T19:16:37.674903Z",
     "iopub.status.idle": "2024-04-23T19:16:37.930304Z",
     "shell.execute_reply": "2024-04-23T19:16:37.929226Z"
    },
    "papermill": {
     "duration": 0.266436,
     "end_time": "2024-04-23T19:16:37.932954",
     "exception": false,
     "start_time": "2024-04-23T19:16:37.666518",
     "status": "completed"
    },
    "tags": []
   },
   "outputs": [],
   "source": [
    "test_df=pd.read_csv('/kaggle/input/playground-series-s4e4/test.csv')\n",
    "train_df=pd.read_csv('/kaggle/input/playground-series-s4e4/train.csv')"
   ]
  },
  {
   "cell_type": "code",
   "execution_count": 3,
   "id": "42b9c9c4",
   "metadata": {
    "execution": {
     "iopub.execute_input": "2024-04-23T19:16:37.949690Z",
     "iopub.status.busy": "2024-04-23T19:16:37.948766Z",
     "iopub.status.idle": "2024-04-23T19:16:37.954774Z",
     "shell.execute_reply": "2024-04-23T19:16:37.953802Z"
    },
    "papermill": {
     "duration": 0.016807,
     "end_time": "2024-04-23T19:16:37.957093",
     "exception": false,
     "start_time": "2024-04-23T19:16:37.940286",
     "status": "completed"
    },
    "tags": []
   },
   "outputs": [],
   "source": [
    "def preproc(df):\n",
    "    scaler = StandardScaler()\n",
    "\n",
    "    df_no_id=df.drop('id', axis=1)\n",
    "    df_no_sex=df_no_id.drop(columns=['Sex'])\n",
    "    df_scaled=pd.DataFrame(scaler.fit_transform(df_no_sex), columns = df_no_sex.columns)\n",
    "    df_scaled['Sex'] = df_no_id['Sex']\n",
    "    df_dummies=pd.get_dummies(df_scaled)\n",
    "    df_encoded=df_dummies\n",
    "    \n",
    "    return df_encoded"
   ]
  },
  {
   "cell_type": "code",
   "execution_count": 4,
   "id": "4dca8eba",
   "metadata": {
    "execution": {
     "iopub.execute_input": "2024-04-23T19:16:37.973736Z",
     "iopub.status.busy": "2024-04-23T19:16:37.972808Z",
     "iopub.status.idle": "2024-04-23T19:16:38.062380Z",
     "shell.execute_reply": "2024-04-23T19:16:38.061455Z"
    },
    "papermill": {
     "duration": 0.10052,
     "end_time": "2024-04-23T19:16:38.064971",
     "exception": false,
     "start_time": "2024-04-23T19:16:37.964451",
     "status": "completed"
    },
    "tags": []
   },
   "outputs": [],
   "source": [
    "train_df_preproc=preproc(train_df)\n",
    "test_df_preproc=preproc(test_df)"
   ]
  },
  {
   "cell_type": "code",
   "execution_count": 5,
   "id": "8a81c3a5",
   "metadata": {
    "execution": {
     "iopub.execute_input": "2024-04-23T19:16:38.083091Z",
     "iopub.status.busy": "2024-04-23T19:16:38.082387Z",
     "iopub.status.idle": "2024-04-23T19:16:38.088988Z",
     "shell.execute_reply": "2024-04-23T19:16:38.088138Z"
    },
    "papermill": {
     "duration": 0.019081,
     "end_time": "2024-04-23T19:16:38.091404",
     "exception": false,
     "start_time": "2024-04-23T19:16:38.072323",
     "status": "completed"
    },
    "tags": []
   },
   "outputs": [],
   "source": [
    "target= np.log1p(train_df['Rings'])\n"
   ]
  },
  {
   "cell_type": "code",
   "execution_count": 6,
   "id": "687ebede",
   "metadata": {
    "execution": {
     "iopub.execute_input": "2024-04-23T19:16:38.108070Z",
     "iopub.status.busy": "2024-04-23T19:16:38.107156Z",
     "iopub.status.idle": "2024-04-23T19:16:38.115176Z",
     "shell.execute_reply": "2024-04-23T19:16:38.114159Z"
    },
    "papermill": {
     "duration": 0.018632,
     "end_time": "2024-04-23T19:16:38.117420",
     "exception": false,
     "start_time": "2024-04-23T19:16:38.098788",
     "status": "completed"
    },
    "tags": []
   },
   "outputs": [],
   "source": [
    "X=train_df_preproc.drop(columns='Rings')\n",
    "X=X.astype(np.float32)\n"
   ]
  },
  {
   "cell_type": "code",
   "execution_count": 7,
   "id": "1f6952d0",
   "metadata": {
    "execution": {
     "iopub.execute_input": "2024-04-23T19:16:38.134598Z",
     "iopub.status.busy": "2024-04-23T19:16:38.133833Z",
     "iopub.status.idle": "2024-04-23T19:16:38.149714Z",
     "shell.execute_reply": "2024-04-23T19:16:38.148663Z"
    },
    "papermill": {
     "duration": 0.026445,
     "end_time": "2024-04-23T19:16:38.152159",
     "exception": false,
     "start_time": "2024-04-23T19:16:38.125714",
     "status": "completed"
    },
    "tags": []
   },
   "outputs": [],
   "source": [
    "X_train, X_val, y_train, y_val = train_test_split(X, \n",
    "                                                  target, \n",
    "                                                  test_size=.2,  \n",
    "                                                  random_state = 42)"
   ]
  },
  {
   "cell_type": "code",
   "execution_count": 8,
   "id": "e0cf0f87",
   "metadata": {
    "execution": {
     "iopub.execute_input": "2024-04-23T19:16:38.168316Z",
     "iopub.status.busy": "2024-04-23T19:16:38.167677Z",
     "iopub.status.idle": "2024-04-23T19:16:38.172744Z",
     "shell.execute_reply": "2024-04-23T19:16:38.171784Z"
    },
    "papermill": {
     "duration": 0.015543,
     "end_time": "2024-04-23T19:16:38.174942",
     "exception": false,
     "start_time": "2024-04-23T19:16:38.159399",
     "status": "completed"
    },
    "tags": []
   },
   "outputs": [],
   "source": [
    "def rmsle(y_true, y_pred):\n",
    "    rmsle = np.sqrt(np.mean(np.square(np.log1p(y_pred) - np.log1p(y_true))))\n",
    "    return rmsle"
   ]
  },
  {
   "cell_type": "code",
   "execution_count": 9,
   "id": "d6c3b77e",
   "metadata": {
    "execution": {
     "iopub.execute_input": "2024-04-23T19:16:38.192051Z",
     "iopub.status.busy": "2024-04-23T19:16:38.191089Z",
     "iopub.status.idle": "2024-04-23T19:16:38.200494Z",
     "shell.execute_reply": "2024-04-23T19:16:38.199435Z"
    },
    "papermill": {
     "duration": 0.020138,
     "end_time": "2024-04-23T19:16:38.202716",
     "exception": false,
     "start_time": "2024-04-23T19:16:38.182578",
     "status": "completed"
    },
    "tags": []
   },
   "outputs": [
    {
     "data": {
      "text/plain": [
       "'\\n#Stacking\\n\\nfrom sklearn.ensemble import StackingRegressor\\nfrom sklearn.linear_model import LinearRegression\\nfrom sklearn.metrics import mean_squared_log_error\\nimport numpy as np\\n\\ntop_params = {\\n    \\'HistGradientBoostingRegressor\\': {\\'learning_rate\\' : 0.06418641358088736, \\'max_depth\\' : 9,\\n                              \\'max_iter\\' : 854, \\'max_leaf_nodes\\' : 39,\\n                              \\'min_samples_leaf\\': 7},\\n    \\'MLPRegressor\\': {\\'hidden_layer_sizes\\': (68, 18, 56), \\'activation\\': \\'relu\\', \\'alpha\\': 5.0753793080466134e-05, \\'learning_rate_init\\': 0.0032188937689512057},\\n    \\'RandomForestRegressor\\': {\\'max_depth\\': 19, \\'max_features\\': \\'log2\\', \\'min_samples_split\\': 8, \\'min_samples_leaf\\': 2, \\'n_estimators\\' : 770, \\'random_state\\' : 42},\\n    \\'ExtraTreesRegressor\\': {\\'n_estimators\\': 272, \\'max_features\\': None, \\'min_samples_split\\': 14, \\'max_depth\\': 20}\\n}\\n\\n\\n\\n# Define the base models with the tuned parameters\\nbase_models = [\\n    (\\'HistGradientBoostingRegressor\\', HistGradientBoostingRegressor(**top_params[\\'HistGradientBoostingRegressor\\'])),\\n    (\\'MLPRegressor\\', MLPRegressor(**top_params[\\'MLPRegressor\\'])),\\n    (\\'RandomForestRegressor\\', RandomForestRegressor(**top_params[\\'RandomForestRegressor\\'])),\\n    (\\'ExtraTreesRegressor\\', ExtraTreesRegressor(**top_params[\\'ExtraTreesRegressor\\']))\\n]\\n\\n# Create the stacking regressor ensemble with a linear regression meta-model\\nstacking_regressor = StackingRegressor(estimators=base_models,\\n                                        final_estimator=LinearRegression(),\\n                                        n_jobs=-1)  # n_jobs=-1 to use all available CPU cores\\n\\n# Train the stacking regressor ensemble\\nstacking_regressor.fit(X_train, y_train)\\n\\n# Make predictions on the validation set\\nstacking_predictions = stacking_regressor.predict(X_val)\\n\\n# Compute RMSLE for the ensemble model\\nstacking_rmsle = rmsle(np.expm1(y_val), np.expm1(stacking_predictions))\\nprint(\"Stacking RMSLE:\", stacking_rmsle)\\n\\n# Make predictions on the test set\\nstack_predictions_test = stacking_regressor.predict(test_df_preproc)\\n\\nsubmission_df = pd.DataFrame({\\'id\\': test_df[\\'id\\'], \\'Rings\\': np.expm1(stack_predictions_test)})\\n'"
      ]
     },
     "execution_count": 9,
     "metadata": {},
     "output_type": "execute_result"
    }
   ],
   "source": [
    "\"\"\"\n",
    "#Stacking\n",
    "\n",
    "from sklearn.ensemble import StackingRegressor\n",
    "from sklearn.linear_model import LinearRegression\n",
    "from sklearn.metrics import mean_squared_log_error\n",
    "import numpy as np\n",
    "\n",
    "top_params = {\n",
    "    'HistGradientBoostingRegressor': {'learning_rate' : 0.06418641358088736, 'max_depth' : 9,\n",
    "                              'max_iter' : 854, 'max_leaf_nodes' : 39,\n",
    "                              'min_samples_leaf': 7},\n",
    "    'MLPRegressor': {'hidden_layer_sizes': (68, 18, 56), 'activation': 'relu', 'alpha': 5.0753793080466134e-05, 'learning_rate_init': 0.0032188937689512057},\n",
    "    'RandomForestRegressor': {'max_depth': 19, 'max_features': 'log2', 'min_samples_split': 8, 'min_samples_leaf': 2, 'n_estimators' : 770, 'random_state' : 42},\n",
    "    'ExtraTreesRegressor': {'n_estimators': 272, 'max_features': None, 'min_samples_split': 14, 'max_depth': 20}\n",
    "}\n",
    "\n",
    "\n",
    "\n",
    "# Define the base models with the tuned parameters\n",
    "base_models = [\n",
    "    ('HistGradientBoostingRegressor', HistGradientBoostingRegressor(**top_params['HistGradientBoostingRegressor'])),\n",
    "    ('MLPRegressor', MLPRegressor(**top_params['MLPRegressor'])),\n",
    "    ('RandomForestRegressor', RandomForestRegressor(**top_params['RandomForestRegressor'])),\n",
    "    ('ExtraTreesRegressor', ExtraTreesRegressor(**top_params['ExtraTreesRegressor']))\n",
    "]\n",
    "\n",
    "# Create the stacking regressor ensemble with a linear regression meta-model\n",
    "stacking_regressor = StackingRegressor(estimators=base_models,\n",
    "                                        final_estimator=LinearRegression(),\n",
    "                                        n_jobs=-1)  # n_jobs=-1 to use all available CPU cores\n",
    "\n",
    "# Train the stacking regressor ensemble\n",
    "stacking_regressor.fit(X_train, y_train)\n",
    "\n",
    "# Make predictions on the validation set\n",
    "stacking_predictions = stacking_regressor.predict(X_val)\n",
    "\n",
    "# Compute RMSLE for the ensemble model\n",
    "stacking_rmsle = rmsle(np.expm1(y_val), np.expm1(stacking_predictions))\n",
    "print(\"Stacking RMSLE:\", stacking_rmsle)\n",
    "\n",
    "# Make predictions on the test set\n",
    "stack_predictions_test = stacking_regressor.predict(test_df_preproc)\n",
    "\n",
    "submission_df = pd.DataFrame({'id': test_df['id'], 'Rings': np.expm1(stack_predictions_test)})\n",
    "\"\"\""
   ]
  },
  {
   "cell_type": "markdown",
   "id": "5446f292",
   "metadata": {
    "papermill": {
     "duration": 0.007233,
     "end_time": "2024-04-23T19:16:38.217708",
     "exception": false,
     "start_time": "2024-04-23T19:16:38.210475",
     "status": "completed"
    },
    "tags": []
   },
   "source": [
    "Stacking RMSLE: 0.15095807587620627\n",
    "\n",
    "Score RMSLE Stacking 0.14809, best so far"
   ]
  },
  {
   "cell_type": "code",
   "execution_count": 10,
   "id": "c9d57cb4",
   "metadata": {
    "execution": {
     "iopub.execute_input": "2024-04-23T19:16:38.234481Z",
     "iopub.status.busy": "2024-04-23T19:16:38.233572Z",
     "iopub.status.idle": "2024-04-23T19:16:38.241618Z",
     "shell.execute_reply": "2024-04-23T19:16:38.240644Z"
    },
    "papermill": {
     "duration": 0.019205,
     "end_time": "2024-04-23T19:16:38.244307",
     "exception": false,
     "start_time": "2024-04-23T19:16:38.225102",
     "status": "completed"
    },
    "tags": []
   },
   "outputs": [
    {
     "data": {
      "text/plain": [
       "'\\nfrom sklearn.ensemble import VotingRegressor\\nfrom sklearn.metrics import mean_squared_log_error\\nimport numpy as np\\n\\ntop_params = {\\n    \\'HistGradientBoostingRegressor\\': {\\'learning_rate\\' : 0.06418641358088736, \\'max_depth\\' : 9,\\n                              \\'max_iter\\' : 854, \\'max_leaf_nodes\\' : 39,\\n                              \\'min_samples_leaf\\': 7},\\n    \\'MLPRegressor\\': {\\'hidden_layer_sizes\\': (68, 18, 56), \\'activation\\': \\'relu\\', \\'alpha\\': 5.0753793080466134e-05, \\'learning_rate_init\\': 0.0032188937689512057},\\n    \\'RandomForestRegressor\\': {\\'max_depth\\': 19, \\'max_features\\': \\'log2\\', \\'min_samples_split\\': 8, \\'min_samples_leaf\\': 2, \\'n_estimators\\' : 770, \\'random_state\\' : 42},\\n    \\'ExtraTreesRegressor\\': {\\'n_estimators\\': 272, \\'max_features\\': None, \\'min_samples_split\\': 14, \\'max_depth\\': 20}\\n}\\n\\n# Define the base models\\nbase_models = [\\n    (\\'HistGradientBoostingRegressor\\', HistGradientBoostingRegressor(**top_params[\\'HistGradientBoostingRegressor\\'])),\\n    (\\'MLPRegressor\\', MLPRegressor(**top_params[\\'MLPRegressor\\'])),\\n    (\\'RandomForestRegressor\\', RandomForestRegressor(**top_params[\\'RandomForestRegressor\\'])),\\n    (\\'ExtraTreesRegressor\\', ExtraTreesRegressor(**top_params[\\'ExtraTreesRegressor\\']))\\n]\\n\\n# Create the voting regressor ensemble\\nvoting_regressor = VotingRegressor(estimators=base_models, n_jobs=-1)  # n_jobs=-1 to use all available CPU cores\\n\\n# Train the voting regressor ensemble\\nvoting_regressor.fit(X_train, y_train)\\n\\n# Make predictions on the validation set\\nvoting_predictions = voting_regressor.predict(X_val)\\n\\n# Compute RMSLE for the ensemble model\\nvoting_rmsle = rmsle(np.expm1(y_val), np.expm1(voting_predictions))\\nprint(\"Voting RMSLE:\", voting_rmsle)\\n\\n# Make predictions on the test set\\nvoting_predictions_test = voting_regressor.predict(test_df_preproc)\\n\\nsubmission_df = pd.DataFrame({\\'id\\': test_df[\\'id\\'], \\'Rings\\': np.expm1(voting_predictions_test)})\\n'"
      ]
     },
     "execution_count": 10,
     "metadata": {},
     "output_type": "execute_result"
    }
   ],
   "source": [
    "'''\n",
    "from sklearn.ensemble import VotingRegressor\n",
    "from sklearn.metrics import mean_squared_log_error\n",
    "import numpy as np\n",
    "\n",
    "top_params = {\n",
    "    'HistGradientBoostingRegressor': {'learning_rate' : 0.06418641358088736, 'max_depth' : 9,\n",
    "                              'max_iter' : 854, 'max_leaf_nodes' : 39,\n",
    "                              'min_samples_leaf': 7},\n",
    "    'MLPRegressor': {'hidden_layer_sizes': (68, 18, 56), 'activation': 'relu', 'alpha': 5.0753793080466134e-05, 'learning_rate_init': 0.0032188937689512057},\n",
    "    'RandomForestRegressor': {'max_depth': 19, 'max_features': 'log2', 'min_samples_split': 8, 'min_samples_leaf': 2, 'n_estimators' : 770, 'random_state' : 42},\n",
    "    'ExtraTreesRegressor': {'n_estimators': 272, 'max_features': None, 'min_samples_split': 14, 'max_depth': 20}\n",
    "}\n",
    "\n",
    "# Define the base models\n",
    "base_models = [\n",
    "    ('HistGradientBoostingRegressor', HistGradientBoostingRegressor(**top_params['HistGradientBoostingRegressor'])),\n",
    "    ('MLPRegressor', MLPRegressor(**top_params['MLPRegressor'])),\n",
    "    ('RandomForestRegressor', RandomForestRegressor(**top_params['RandomForestRegressor'])),\n",
    "    ('ExtraTreesRegressor', ExtraTreesRegressor(**top_params['ExtraTreesRegressor']))\n",
    "]\n",
    "\n",
    "# Create the voting regressor ensemble\n",
    "voting_regressor = VotingRegressor(estimators=base_models, n_jobs=-1)  # n_jobs=-1 to use all available CPU cores\n",
    "\n",
    "# Train the voting regressor ensemble\n",
    "voting_regressor.fit(X_train, y_train)\n",
    "\n",
    "# Make predictions on the validation set\n",
    "voting_predictions = voting_regressor.predict(X_val)\n",
    "\n",
    "# Compute RMSLE for the ensemble model\n",
    "voting_rmsle = rmsle(np.expm1(y_val), np.expm1(voting_predictions))\n",
    "print(\"Voting RMSLE:\", voting_rmsle)\n",
    "\n",
    "# Make predictions on the test set\n",
    "voting_predictions_test = voting_regressor.predict(test_df_preproc)\n",
    "\n",
    "submission_df = pd.DataFrame({'id': test_df['id'], 'Rings': np.expm1(voting_predictions_test)})\n",
    "'''"
   ]
  },
  {
   "cell_type": "markdown",
   "id": "5d053f25",
   "metadata": {
    "papermill": {
     "duration": 0.007238,
     "end_time": "2024-04-23T19:16:38.259316",
     "exception": false,
     "start_time": "2024-04-23T19:16:38.252078",
     "status": "completed"
    },
    "tags": []
   },
   "source": [
    "Voting RMSLE: 0.15148521771560713\n",
    "\n",
    "Score RMSLE: 0.1486"
   ]
  },
  {
   "cell_type": "code",
   "execution_count": 11,
   "id": "94f1fb53",
   "metadata": {
    "execution": {
     "iopub.execute_input": "2024-04-23T19:16:38.276533Z",
     "iopub.status.busy": "2024-04-23T19:16:38.276141Z",
     "iopub.status.idle": "2024-04-23T19:16:38.284673Z",
     "shell.execute_reply": "2024-04-23T19:16:38.283552Z"
    },
    "papermill": {
     "duration": 0.020155,
     "end_time": "2024-04-23T19:16:38.287000",
     "exception": false,
     "start_time": "2024-04-23T19:16:38.266845",
     "status": "completed"
    },
    "tags": []
   },
   "outputs": [
    {
     "data": {
      "text/plain": [
       "'\\nbase_models = {\\n    \\'HistGradientBoostingRegressor\\': HistGradientBoostingRegressor,\\n    \\'MLPRegressor\\': MLPRegressor,\\n    \\'RandomForestRegressor\\': RandomForestRegressor,\\n    \\'ExtraTreesRegressor\\': ExtraTreesRegressor\\n}\\n\\n# Top parameters for each model (replace these with your actual parameters)\\ntop_params = {\\n    \\'HistGradientBoostingRegressor\\': {\\'learning_rate\\' : 0.06418641358088736, \\'max_depth\\' : 9,\\n                              \\'max_iter\\' : 854, \\'max_leaf_nodes\\' : 39,\\n                              \\'min_samples_leaf\\': 7},\\n    \\'MLPRegressor\\': {\\'hidden_layer_sizes\\': (68, 18, 56), \\'activation\\': \\'relu\\', \\'alpha\\': 5.0753793080466134e-05, \\'learning_rate_init\\': 0.0032188937689512057},\\n    \\'RandomForestRegressor\\': {\\'max_depth\\': 19, \\'max_features\\': \\'log2\\', \\'min_samples_split\\': 8, \\'min_samples_leaf\\': 2, \\'n_estimators\\' : 770, \\'random_state\\' : 42},\\n    \\'ExtraTreesRegressor\\': {\\'n_estimators\\': 272, \\'max_features\\': None, \\'min_samples_split\\': 14, \\'max_depth\\': 20}\\n}\\n\\n\\n# Train each base model with the top hyperparameters\\ntrained_models = {}\\nfor model_name, model_class in base_models.items():\\n    model = model_class(**top_params.get(model_name, {}))\\n    model.fit(X_train, y_train)\\n    trained_models[model_name] = model\\n\\n# Compute predictions for each base model on the validation set\\nbase_model_predictions = {}\\nfor model_name, model in trained_models.items():\\n    base_model_predictions[model_name] = np.expm1(model.predict(X_val))\\n\\ndef objective(trial):\\n    # Define the search space for weights\\n    weights = {}\\n    for model_name in base_models.keys():\\n        weights[model_name] = trial.suggest_float(model_name, 0.0, 2.0)\\n\\n    # Compute ensemble prediction using weighted average\\n    ensemble_prediction = np.average([base_model_predictions[model_name] * weights[model_name] for model_name in base_models.keys()], axis=0)\\n\\n    # Compute RMSLE for the ensemble model\\n    ensemble_rmsle = rmsle(np.expm1(y_val), ensemble_prediction)\\n    return ensemble_rmsle\\n\\n# Optimize weights for the ensemble using Optuna\\nstudy = optuna.create_study(direction=\\'minimize\\')\\nstudy.optimize(objective, n_trials=100)\\n\\n# Get the best weights\\nbest_weights = study.best_params\\nprint(\"Best Weights:\", best_weights)\\n\\n\\n# Compute ensemble prediction using the best weights\\nensemble_prediction = np.average([base_model_predictions[model_name] * best_weights[model_name] for model_name in base_models.keys()], axis=0)\\n\\n# Compute RMSLE for the ensemble model\\nensemble_rmsle = rmsle(np.expm1(y_val), ensemble_prediction)\\nprint(\"Ensemble RMSLE:\", ensemble_rmsle)\\n\\n'"
      ]
     },
     "execution_count": 11,
     "metadata": {},
     "output_type": "execute_result"
    }
   ],
   "source": [
    "\n",
    "#weighting\n",
    "\n",
    "\"\"\"\n",
    "base_models = {\n",
    "    'HistGradientBoostingRegressor': HistGradientBoostingRegressor,\n",
    "    'MLPRegressor': MLPRegressor,\n",
    "    'RandomForestRegressor': RandomForestRegressor,\n",
    "    'ExtraTreesRegressor': ExtraTreesRegressor\n",
    "}\n",
    "\n",
    "# Top parameters for each model (replace these with your actual parameters)\n",
    "top_params = {\n",
    "    'HistGradientBoostingRegressor': {'learning_rate' : 0.06418641358088736, 'max_depth' : 9,\n",
    "                              'max_iter' : 854, 'max_leaf_nodes' : 39,\n",
    "                              'min_samples_leaf': 7},\n",
    "    'MLPRegressor': {'hidden_layer_sizes': (68, 18, 56), 'activation': 'relu', 'alpha': 5.0753793080466134e-05, 'learning_rate_init': 0.0032188937689512057},\n",
    "    'RandomForestRegressor': {'max_depth': 19, 'max_features': 'log2', 'min_samples_split': 8, 'min_samples_leaf': 2, 'n_estimators' : 770, 'random_state' : 42},\n",
    "    'ExtraTreesRegressor': {'n_estimators': 272, 'max_features': None, 'min_samples_split': 14, 'max_depth': 20}\n",
    "}\n",
    "\n",
    "\n",
    "# Train each base model with the top hyperparameters\n",
    "trained_models = {}\n",
    "for model_name, model_class in base_models.items():\n",
    "    model = model_class(**top_params.get(model_name, {}))\n",
    "    model.fit(X_train, y_train)\n",
    "    trained_models[model_name] = model\n",
    "\n",
    "# Compute predictions for each base model on the validation set\n",
    "base_model_predictions = {}\n",
    "for model_name, model in trained_models.items():\n",
    "    base_model_predictions[model_name] = np.expm1(model.predict(X_val))\n",
    "\n",
    "def objective(trial):\n",
    "    # Define the search space for weights\n",
    "    weights = {}\n",
    "    for model_name in base_models.keys():\n",
    "        weights[model_name] = trial.suggest_float(model_name, 0.0, 2.0)\n",
    "\n",
    "    # Compute ensemble prediction using weighted average\n",
    "    ensemble_prediction = np.average([base_model_predictions[model_name] * weights[model_name] for model_name in base_models.keys()], axis=0)\n",
    "\n",
    "    # Compute RMSLE for the ensemble model\n",
    "    ensemble_rmsle = rmsle(np.expm1(y_val), ensemble_prediction)\n",
    "    return ensemble_rmsle\n",
    "\n",
    "# Optimize weights for the ensemble using Optuna\n",
    "study = optuna.create_study(direction='minimize')\n",
    "study.optimize(objective, n_trials=100)\n",
    "\n",
    "# Get the best weights\n",
    "best_weights = study.best_params\n",
    "print(\"Best Weights:\", best_weights)\n",
    "\n",
    "\n",
    "# Compute ensemble prediction using the best weights\n",
    "ensemble_prediction = np.average([base_model_predictions[model_name] * best_weights[model_name] for model_name in base_models.keys()], axis=0)\n",
    "\n",
    "# Compute RMSLE for the ensemble model\n",
    "ensemble_rmsle = rmsle(np.expm1(y_val), ensemble_prediction)\n",
    "print(\"Ensemble RMSLE:\", ensemble_rmsle)\n",
    "\n",
    "\"\"\""
   ]
  },
  {
   "cell_type": "markdown",
   "id": "46db095f",
   "metadata": {
    "papermill": {
     "duration": 0.007455,
     "end_time": "2024-04-23T19:16:38.302138",
     "exception": false,
     "start_time": "2024-04-23T19:16:38.294683",
     "status": "completed"
    },
    "tags": []
   },
   "source": [
    "Weighting\n",
    "\n",
    "Ensemble RMSLE: 0.15157797556118202\n",
    "\n",
    "Score is .14828"
   ]
  },
  {
   "cell_type": "code",
   "execution_count": 12,
   "id": "9a9c2f09",
   "metadata": {
    "execution": {
     "iopub.execute_input": "2024-04-23T19:16:38.319631Z",
     "iopub.status.busy": "2024-04-23T19:16:38.318851Z",
     "iopub.status.idle": "2024-04-23T19:16:38.325472Z",
     "shell.execute_reply": "2024-04-23T19:16:38.324353Z"
    },
    "papermill": {
     "duration": 0.01755,
     "end_time": "2024-04-23T19:16:38.327642",
     "exception": false,
     "start_time": "2024-04-23T19:16:38.310092",
     "status": "completed"
    },
    "tags": []
   },
   "outputs": [
    {
     "data": {
      "text/plain": [
       "\"\\n\\nbase_model_predictions = {}\\nfor model_name, model in trained_models.items():\\n    base_model_predictions[model_name] = np.expm1(model.predict(test_df_preproc))\\n\\n# Compute ensemble prediction using the best weights\\nensemble_prediction = np.average([base_model_predictions[model_name] * best_weights[model_name] for model_name in base_models.keys()], axis=0)\\n\\nsubmission_df = pd.DataFrame({'id': test_df['id'], 'Rings': ensemble_prediction})\\n\\n\""
      ]
     },
     "execution_count": 12,
     "metadata": {},
     "output_type": "execute_result"
    }
   ],
   "source": [
    "\"\"\"\n",
    "\n",
    "base_model_predictions = {}\n",
    "for model_name, model in trained_models.items():\n",
    "    base_model_predictions[model_name] = np.expm1(model.predict(test_df_preproc))\n",
    "\n",
    "# Compute ensemble prediction using the best weights\n",
    "ensemble_prediction = np.average([base_model_predictions[model_name] * best_weights[model_name] for model_name in base_models.keys()], axis=0)\n",
    "\n",
    "submission_df = pd.DataFrame({'id': test_df['id'], 'Rings': ensemble_prediction})\n",
    "\n",
    "\"\"\""
   ]
  },
  {
   "cell_type": "code",
   "execution_count": 13,
   "id": "b0131b15",
   "metadata": {
    "execution": {
     "iopub.execute_input": "2024-04-23T19:16:38.345669Z",
     "iopub.status.busy": "2024-04-23T19:16:38.344640Z",
     "iopub.status.idle": "2024-04-23T19:16:38.351654Z",
     "shell.execute_reply": "2024-04-23T19:16:38.350478Z"
    },
    "papermill": {
     "duration": 0.018587,
     "end_time": "2024-04-23T19:16:38.354020",
     "exception": false,
     "start_time": "2024-04-23T19:16:38.335433",
     "status": "completed"
    },
    "tags": []
   },
   "outputs": [
    {
     "data": {
      "text/plain": [
       "\"\\nmodel=ExtraTreesRegressor(max_depth=20, max_features=None, min_samples_split=14,\\n                    n_estimators=272, random_state=42)\\n\\nmodel.fit(X_train,y_train)\\n\\ny_pred=model.predict(X_val)\\n\\nprint(rmsle(np.expm1(y_val), np.expm1(y_pred)))\\n\\ny_pred_test = model.predict(test_df_preproc)\\ny_pred_test = np.expm1(y_pred_test)\\n\\n\\nsubmission_df = pd.DataFrame({'id': test_df['id'], 'Rings': y_pred_test})\\n\""
      ]
     },
     "execution_count": 13,
     "metadata": {},
     "output_type": "execute_result"
    }
   ],
   "source": [
    "\"\"\"\n",
    "model=ExtraTreesRegressor(max_depth=20, max_features=None, min_samples_split=14,\n",
    "                    n_estimators=272, random_state=42)\n",
    "\n",
    "model.fit(X_train,y_train)\n",
    "\n",
    "y_pred=model.predict(X_val)\n",
    "\n",
    "print(rmsle(np.expm1(y_val), np.expm1(y_pred)))\n",
    "\n",
    "y_pred_test = model.predict(test_df_preproc)\n",
    "y_pred_test = np.expm1(y_pred_test)\n",
    "\n",
    "\n",
    "submission_df = pd.DataFrame({'id': test_df['id'], 'Rings': y_pred_test})\n",
    "\"\"\""
   ]
  },
  {
   "cell_type": "markdown",
   "id": "6e4d131d",
   "metadata": {
    "papermill": {
     "duration": 0.00765,
     "end_time": "2024-04-23T19:16:38.369976",
     "exception": false,
     "start_time": "2024-04-23T19:16:38.362326",
     "status": "completed"
    },
    "tags": []
   },
   "source": [
    "Extra Trees with tuning and scaling and with tuning 0.15479149738104986"
   ]
  },
  {
   "cell_type": "code",
   "execution_count": 14,
   "id": "205d7ed5",
   "metadata": {
    "execution": {
     "iopub.execute_input": "2024-04-23T19:16:38.387989Z",
     "iopub.status.busy": "2024-04-23T19:16:38.387125Z",
     "iopub.status.idle": "2024-04-23T19:16:38.393939Z",
     "shell.execute_reply": "2024-04-23T19:16:38.392701Z"
    },
    "papermill": {
     "duration": 0.018151,
     "end_time": "2024-04-23T19:16:38.396133",
     "exception": false,
     "start_time": "2024-04-23T19:16:38.377982",
     "status": "completed"
    },
    "tags": []
   },
   "outputs": [
    {
     "data": {
      "text/plain": [
       "\"\\n\\nmodel=RandomForestRegressor(max_depth=19, max_features='log2', min_samples_leaf=2,\\n                      min_samples_split=8, n_estimators=770, random_state=42)\\n\\nmodel.fit(X_train,y_train)\\n\\ny_pred=model.predict(X_val)\\n\\nprint(rmsle(np.expm1(y_val), np.expm1(y_pred)))\\n\\ny_pred_test = model.predict(test_df_preproc)\\ny_pred_test = np.expm1(y_pred_test)\\n\\n\\nsubmission_df = pd.DataFrame({'id': test_df['id'], 'Rings': y_pred_test})\\n\\n\""
      ]
     },
     "execution_count": 14,
     "metadata": {},
     "output_type": "execute_result"
    }
   ],
   "source": [
    "\"\"\"\n",
    "\n",
    "model=RandomForestRegressor(max_depth=19, max_features='log2', min_samples_leaf=2,\n",
    "                      min_samples_split=8, n_estimators=770, random_state=42)\n",
    "\n",
    "model.fit(X_train,y_train)\n",
    "\n",
    "y_pred=model.predict(X_val)\n",
    "\n",
    "print(rmsle(np.expm1(y_val), np.expm1(y_pred)))\n",
    "\n",
    "y_pred_test = model.predict(test_df_preproc)\n",
    "y_pred_test = np.expm1(y_pred_test)\n",
    "\n",
    "\n",
    "submission_df = pd.DataFrame({'id': test_df['id'], 'Rings': y_pred_test})\n",
    "\n",
    "\"\"\""
   ]
  },
  {
   "cell_type": "markdown",
   "id": "f357ab0a",
   "metadata": {
    "papermill": {
     "duration": 0.007917,
     "end_time": "2024-04-23T19:16:38.412187",
     "exception": false,
     "start_time": "2024-04-23T19:16:38.404270",
     "status": "completed"
    },
    "tags": []
   },
   "source": [
    "RandomForest with tuning and scaling and with tuning \n",
    "0.15479149738104986"
   ]
  },
  {
   "cell_type": "code",
   "execution_count": 15,
   "id": "1cacc6c5",
   "metadata": {
    "execution": {
     "iopub.execute_input": "2024-04-23T19:16:38.430312Z",
     "iopub.status.busy": "2024-04-23T19:16:38.429913Z",
     "iopub.status.idle": "2024-04-23T19:16:38.436634Z",
     "shell.execute_reply": "2024-04-23T19:16:38.435472Z"
    },
    "papermill": {
     "duration": 0.018769,
     "end_time": "2024-04-23T19:16:38.439130",
     "exception": false,
     "start_time": "2024-04-23T19:16:38.420361",
     "status": "completed"
    },
    "tags": []
   },
   "outputs": [
    {
     "data": {
      "text/plain": [
       "\"\\nmodel=MLPRegressor(alpha=5.0753793080466134e-05, \\n                   hidden_layer_sizes=(68, 18, 56),\\n                     learning_rate_init=0.0032188937689512057)\\n\\nmodel.fit(X_train,y_train)\\n\\ny_pred=model.predict(X_val)\\n\\nprint(rmsle(np.expm1(y_val), np.expm1(y_pred)))\\n\\ny_pred_test = model.predict(test_df_preproc)\\ny_pred_test = np.expm1(y_pred_test)\\n\\n\\nsubmission_df = pd.DataFrame({'id': test_df['id'], 'Rings': y_pred_test})\\n\""
      ]
     },
     "execution_count": 15,
     "metadata": {},
     "output_type": "execute_result"
    }
   ],
   "source": [
    "\"\"\"\n",
    "model=MLPRegressor(alpha=5.0753793080466134e-05, \n",
    "                   hidden_layer_sizes=(68, 18, 56),\n",
    "                     learning_rate_init=0.0032188937689512057)\n",
    "\n",
    "model.fit(X_train,y_train)\n",
    "\n",
    "y_pred=model.predict(X_val)\n",
    "\n",
    "print(rmsle(np.expm1(y_val), np.expm1(y_pred)))\n",
    "\n",
    "y_pred_test = model.predict(test_df_preproc)\n",
    "y_pred_test = np.expm1(y_pred_test)\n",
    "\n",
    "\n",
    "submission_df = pd.DataFrame({'id': test_df['id'], 'Rings': y_pred_test})\n",
    "\"\"\""
   ]
  },
  {
   "cell_type": "markdown",
   "id": "e110d420",
   "metadata": {
    "papermill": {
     "duration": 0.00799,
     "end_time": "2024-04-23T19:16:38.455520",
     "exception": false,
     "start_time": "2024-04-23T19:16:38.447530",
     "status": "completed"
    },
    "tags": []
   },
   "source": [
    "MLP with tuning 0.15479149738104986\n"
   ]
  },
  {
   "cell_type": "code",
   "execution_count": 16,
   "id": "1aa4e9df",
   "metadata": {
    "execution": {
     "iopub.execute_input": "2024-04-23T19:16:38.473510Z",
     "iopub.status.busy": "2024-04-23T19:16:38.473157Z",
     "iopub.status.idle": "2024-04-23T19:16:40.902942Z",
     "shell.execute_reply": "2024-04-23T19:16:40.902023Z"
    },
    "papermill": {
     "duration": 2.44152,
     "end_time": "2024-04-23T19:16:40.905228",
     "exception": false,
     "start_time": "2024-04-23T19:16:38.463708",
     "status": "completed"
    },
    "tags": []
   },
   "outputs": [
    {
     "name": "stdout",
     "output_type": "stream",
     "text": [
      "0.15178314886210703\n"
     ]
    }
   ],
   "source": [
    "\n",
    "model=HistGradientBoostingRegressor(learning_rate=0.06418641358088736, max_depth=9,\n",
    "                              max_iter=854, max_leaf_nodes=39,\n",
    "                              min_samples_leaf=7)\n",
    "\n",
    "\n",
    "model.fit(X_train,y_train)\n",
    "\n",
    "y_pred=model.predict(X_val)\n",
    "\n",
    "print(rmsle(np.expm1(y_val), np.expm1(y_pred)))\n",
    "\n",
    "y_pred_test = model.predict(test_df_preproc)\n",
    "y_pred_test = np.expm1(y_pred_test)\n",
    "\n",
    "\n",
    "submission_df = pd.DataFrame({'id': test_df['id'], 'Rings': y_pred_test})\n",
    "\n"
   ]
  },
  {
   "cell_type": "markdown",
   "id": "8cf92116",
   "metadata": {
    "papermill": {
     "duration": 0.007891,
     "end_time": "2024-04-23T19:16:40.921220",
     "exception": false,
     "start_time": "2024-04-23T19:16:40.913329",
     "status": "completed"
    },
    "tags": []
   },
   "source": [
    "Hist grad - RMSLE NO scaling 0.15230436920990859\n",
    "\n",
    "Hist grad - RMSLE with scaling 0.15169981299264404"
   ]
  },
  {
   "cell_type": "code",
   "execution_count": 17,
   "id": "2df970ca",
   "metadata": {
    "execution": {
     "iopub.execute_input": "2024-04-23T19:16:40.939146Z",
     "iopub.status.busy": "2024-04-23T19:16:40.938720Z",
     "iopub.status.idle": "2024-04-23T19:16:54.482801Z",
     "shell.execute_reply": "2024-04-23T19:16:54.481918Z"
    },
    "papermill": {
     "duration": 13.55583,
     "end_time": "2024-04-23T19:16:54.485351",
     "exception": false,
     "start_time": "2024-04-23T19:16:40.929521",
     "status": "completed"
    },
    "tags": []
   },
   "outputs": [],
   "source": [
    "#from sklearn.experimental import enable_hist_gradient_boosting\n",
    "from sklearn.inspection import permutation_importance\n",
    "\n",
    "# Compute permutation importances\n",
    "perm_importance = permutation_importance(model, X_val, y_val, n_repeats=10, random_state=42)\n",
    "\n",
    "# Get feature importances\n",
    "feature_importances = perm_importance.importances_mean\n",
    "\n",
    "# Rank features\n",
    "feature_indices_ranked = feature_importances.argsort()[::-1]\n",
    "\n"
   ]
  },
  {
   "cell_type": "code",
   "execution_count": 18,
   "id": "6b8eebc1",
   "metadata": {
    "execution": {
     "iopub.execute_input": "2024-04-23T19:16:54.504292Z",
     "iopub.status.busy": "2024-04-23T19:16:54.503563Z",
     "iopub.status.idle": "2024-04-23T19:16:54.509249Z",
     "shell.execute_reply": "2024-04-23T19:16:54.508335Z"
    },
    "papermill": {
     "duration": 0.017602,
     "end_time": "2024-04-23T19:16:54.511742",
     "exception": false,
     "start_time": "2024-04-23T19:16:54.494140",
     "status": "completed"
    },
    "tags": []
   },
   "outputs": [
    {
     "name": "stdout",
     "output_type": "stream",
     "text": [
      "Feature Ranking:\n",
      "Feature Shell weight: Importance = 0.8000579508361503\n",
      "Feature Whole weight.1: Importance = 0.5035295190992046\n",
      "Feature Whole weight: Importance = 0.49520882284502593\n",
      "Feature Height: Importance = 0.10329770521098096\n",
      "Feature Whole weight.2: Importance = 0.09265166661427723\n",
      "Feature Length: Importance = 0.026633028536960045\n",
      "Feature Sex_I: Importance = 0.01747877559198673\n",
      "Feature Diameter: Importance = 0.014005741189255804\n",
      "Feature Sex_F: Importance = 0.00022863688305336806\n",
      "Feature Sex_M: Importance = 4.495014492098548e-05\n"
     ]
    }
   ],
   "source": [
    "# Print ranked features\n",
    "feature_names=X_val.columns\n",
    "print(\"Feature Ranking:\")\n",
    "for index in feature_indices_ranked:\n",
    "    column_name = feature_names[index]\n",
    "    print(f\"Feature {column_name}: Importance = {feature_importances[index]}\")"
   ]
  },
  {
   "cell_type": "code",
   "execution_count": 19,
   "id": "0f7234c3",
   "metadata": {
    "execution": {
     "iopub.execute_input": "2024-04-23T19:16:54.530212Z",
     "iopub.status.busy": "2024-04-23T19:16:54.529469Z",
     "iopub.status.idle": "2024-04-23T19:16:54.534729Z",
     "shell.execute_reply": "2024-04-23T19:16:54.533745Z"
    },
    "papermill": {
     "duration": 0.016964,
     "end_time": "2024-04-23T19:16:54.536888",
     "exception": false,
     "start_time": "2024-04-23T19:16:54.519924",
     "status": "completed"
    },
    "tags": []
   },
   "outputs": [],
   "source": [
    "def preproc2(df):\n",
    "    df_no_male=df.drop('Sex_M', axis=1)\n",
    "    df_no_adult=df_no_male.drop('Sex_F', axis=1)\n",
    "    df_no_dia=df_no_adult.drop('Diameter', axis=1)\n",
    "    return df_no_dia"
   ]
  },
  {
   "cell_type": "code",
   "execution_count": 20,
   "id": "bb9f2431",
   "metadata": {
    "execution": {
     "iopub.execute_input": "2024-04-23T19:16:54.555471Z",
     "iopub.status.busy": "2024-04-23T19:16:54.554711Z",
     "iopub.status.idle": "2024-04-23T19:16:54.577509Z",
     "shell.execute_reply": "2024-04-23T19:16:54.576421Z"
    },
    "papermill": {
     "duration": 0.034931,
     "end_time": "2024-04-23T19:16:54.580189",
     "exception": false,
     "start_time": "2024-04-23T19:16:54.545258",
     "status": "completed"
    },
    "tags": []
   },
   "outputs": [],
   "source": [
    "\n",
    "X_2=preproc2(X)\n",
    "test_df_preproc_2=preproc2(test_df_preproc)\n",
    "\n",
    "X_train2, X_val2, y_train2, y_val2 = train_test_split(X_2, \n",
    "                                                  target, \n",
    "                                                  test_size=.2,  \n",
    "                                                  random_state = 42)"
   ]
  },
  {
   "cell_type": "code",
   "execution_count": 21,
   "id": "0d9dbf2e",
   "metadata": {
    "execution": {
     "iopub.execute_input": "2024-04-23T19:16:54.599247Z",
     "iopub.status.busy": "2024-04-23T19:16:54.598330Z",
     "iopub.status.idle": "2024-04-23T19:22:03.766818Z",
     "shell.execute_reply": "2024-04-23T19:22:03.765170Z"
    },
    "papermill": {
     "duration": 309.18142,
     "end_time": "2024-04-23T19:22:03.770240",
     "exception": false,
     "start_time": "2024-04-23T19:16:54.588820",
     "status": "completed"
    },
    "tags": []
   },
   "outputs": [
    {
     "name": "stdout",
     "output_type": "stream",
     "text": [
      "Stacking RMSLE: 0.1514023209661915\n"
     ]
    }
   ],
   "source": [
    "\n",
    "#Stacking\n",
    "\n",
    "from sklearn.ensemble import StackingRegressor\n",
    "from sklearn.linear_model import LinearRegression\n",
    "from sklearn.metrics import mean_squared_log_error\n",
    "import numpy as np\n",
    "\n",
    "top_params = {\n",
    "    'HistGradientBoostingRegressor': {'learning_rate' : 0.06418641358088736, 'max_depth' : 9,\n",
    "                              'max_iter' : 854, 'max_leaf_nodes' : 39,\n",
    "                              'min_samples_leaf': 7},\n",
    "    'MLPRegressor': {'hidden_layer_sizes': (68, 18, 56), 'activation': 'relu', 'alpha': 5.0753793080466134e-05, 'learning_rate_init': 0.0032188937689512057},\n",
    "    'RandomForestRegressor': {'max_depth': 19, 'max_features': 'log2', 'min_samples_split': 8, 'min_samples_leaf': 2, 'n_estimators' : 770, 'random_state' : 42},\n",
    "    'ExtraTreesRegressor': {'n_estimators': 272, 'max_features': None, 'min_samples_split': 14, 'max_depth': 20}\n",
    "}\n",
    "\n",
    "\n",
    "\n",
    "# Define the base models with the tuned parameters\n",
    "base_models = [\n",
    "    ('HistGradientBoostingRegressor', HistGradientBoostingRegressor(**top_params['HistGradientBoostingRegressor'])),\n",
    "    ('MLPRegressor', MLPRegressor(**top_params['MLPRegressor'])),\n",
    "    ('RandomForestRegressor', RandomForestRegressor(**top_params['RandomForestRegressor'])),\n",
    "    ('ExtraTreesRegressor', ExtraTreesRegressor(**top_params['ExtraTreesRegressor']))\n",
    "]\n",
    "\n",
    "# Create the stacking regressor ensemble with a linear regression meta-model\n",
    "stacking_regressor = StackingRegressor(estimators=base_models,\n",
    "                                        final_estimator=LinearRegression(),\n",
    "                                        n_jobs=-1)  # n_jobs=-1 to use all available CPU cores\n",
    "\n",
    "# Train the stacking regressor ensemble\n",
    "stacking_regressor.fit(X_train2, y_train2)\n",
    "\n",
    "# Make predictions on the validation set\n",
    "stacking_predictions = stacking_regressor.predict(X_val2)\n",
    "\n",
    "# Compute RMSLE for the ensemble model\n",
    "stacking_rmsle = rmsle(np.expm1(y_val2), np.expm1(stacking_predictions))\n",
    "print(\"Stacking RMSLE:\", stacking_rmsle)\n",
    "\n",
    "# Make predictions on the test set\n",
    "stack_predictions_test = stacking_regressor.predict(test_df_preproc_2)\n",
    "\n",
    "submission_df = pd.DataFrame({'id': test_df['id'], 'Rings': np.expm1(stack_predictions_test)})\n"
   ]
  },
  {
   "cell_type": "code",
   "execution_count": 22,
   "id": "4cd45f0e",
   "metadata": {
    "execution": {
     "iopub.execute_input": "2024-04-23T19:22:03.800645Z",
     "iopub.status.busy": "2024-04-23T19:22:03.800114Z",
     "iopub.status.idle": "2024-04-23T19:22:03.828222Z",
     "shell.execute_reply": "2024-04-23T19:22:03.827025Z"
    },
    "papermill": {
     "duration": 0.047006,
     "end_time": "2024-04-23T19:22:03.831351",
     "exception": false,
     "start_time": "2024-04-23T19:22:03.784345",
     "status": "completed"
    },
    "tags": []
   },
   "outputs": [
    {
     "data": {
      "text/html": [
       "<div>\n",
       "<style scoped>\n",
       "    .dataframe tbody tr th:only-of-type {\n",
       "        vertical-align: middle;\n",
       "    }\n",
       "\n",
       "    .dataframe tbody tr th {\n",
       "        vertical-align: top;\n",
       "    }\n",
       "\n",
       "    .dataframe thead th {\n",
       "        text-align: right;\n",
       "    }\n",
       "</style>\n",
       "<table border=\"1\" class=\"dataframe\">\n",
       "  <thead>\n",
       "    <tr style=\"text-align: right;\">\n",
       "      <th></th>\n",
       "      <th>Rings</th>\n",
       "    </tr>\n",
       "    <tr>\n",
       "      <th>id</th>\n",
       "      <th></th>\n",
       "    </tr>\n",
       "  </thead>\n",
       "  <tbody>\n",
       "    <tr>\n",
       "      <th>90615</th>\n",
       "      <td>9.876003</td>\n",
       "    </tr>\n",
       "    <tr>\n",
       "      <th>90616</th>\n",
       "      <td>9.752721</td>\n",
       "    </tr>\n",
       "    <tr>\n",
       "      <th>90617</th>\n",
       "      <td>10.048343</td>\n",
       "    </tr>\n",
       "    <tr>\n",
       "      <th>90618</th>\n",
       "      <td>10.436299</td>\n",
       "    </tr>\n",
       "    <tr>\n",
       "      <th>90619</th>\n",
       "      <td>7.442727</td>\n",
       "    </tr>\n",
       "    <tr>\n",
       "      <th>...</th>\n",
       "      <td>...</td>\n",
       "    </tr>\n",
       "    <tr>\n",
       "      <th>151021</th>\n",
       "      <td>6.257160</td>\n",
       "    </tr>\n",
       "    <tr>\n",
       "      <th>151022</th>\n",
       "      <td>9.090482</td>\n",
       "    </tr>\n",
       "    <tr>\n",
       "      <th>151023</th>\n",
       "      <td>11.440596</td>\n",
       "    </tr>\n",
       "    <tr>\n",
       "      <th>151024</th>\n",
       "      <td>12.569963</td>\n",
       "    </tr>\n",
       "    <tr>\n",
       "      <th>151025</th>\n",
       "      <td>8.306848</td>\n",
       "    </tr>\n",
       "  </tbody>\n",
       "</table>\n",
       "<p>60411 rows × 1 columns</p>\n",
       "</div>"
      ],
      "text/plain": [
       "            Rings\n",
       "id               \n",
       "90615    9.876003\n",
       "90616    9.752721\n",
       "90617   10.048343\n",
       "90618   10.436299\n",
       "90619    7.442727\n",
       "...           ...\n",
       "151021   6.257160\n",
       "151022   9.090482\n",
       "151023  11.440596\n",
       "151024  12.569963\n",
       "151025   8.306848\n",
       "\n",
       "[60411 rows x 1 columns]"
      ]
     },
     "execution_count": 22,
     "metadata": {},
     "output_type": "execute_result"
    }
   ],
   "source": [
    "submission_df.set_index('id')"
   ]
  },
  {
   "cell_type": "code",
   "execution_count": 23,
   "id": "182ad804",
   "metadata": {
    "execution": {
     "iopub.execute_input": "2024-04-23T19:22:03.862193Z",
     "iopub.status.busy": "2024-04-23T19:22:03.861679Z",
     "iopub.status.idle": "2024-04-23T19:22:04.003505Z",
     "shell.execute_reply": "2024-04-23T19:22:04.002656Z"
    },
    "papermill": {
     "duration": 0.160068,
     "end_time": "2024-04-23T19:22:04.005963",
     "exception": false,
     "start_time": "2024-04-23T19:22:03.845895",
     "status": "completed"
    },
    "tags": []
   },
   "outputs": [],
   "source": [
    "#Converts the dataframe to CSV file for submission to contest\n",
    "submission_df.to_csv('submission.csv', index=False)"
   ]
  },
  {
   "cell_type": "code",
   "execution_count": null,
   "id": "763a5038",
   "metadata": {
    "papermill": {
     "duration": 0.008157,
     "end_time": "2024-04-23T19:22:04.022766",
     "exception": false,
     "start_time": "2024-04-23T19:22:04.014609",
     "status": "completed"
    },
    "tags": []
   },
   "outputs": [],
   "source": []
  },
  {
   "cell_type": "code",
   "execution_count": null,
   "id": "b738a7e7",
   "metadata": {
    "papermill": {
     "duration": 0.008068,
     "end_time": "2024-04-23T19:22:04.039411",
     "exception": false,
     "start_time": "2024-04-23T19:22:04.031343",
     "status": "completed"
    },
    "tags": []
   },
   "outputs": [],
   "source": []
  }
 ],
 "metadata": {
  "kaggle": {
   "accelerator": "none",
   "dataSources": [
    {
     "databundleVersionId": 8096274,
     "sourceId": 72489,
     "sourceType": "competition"
    }
   ],
   "dockerImageVersionId": 30684,
   "isGpuEnabled": false,
   "isInternetEnabled": true,
   "language": "python",
   "sourceType": "notebook"
  },
  "kernelspec": {
   "display_name": "Python 3",
   "language": "python",
   "name": "python3"
  },
  "language_info": {
   "codemirror_mode": {
    "name": "ipython",
    "version": 3
   },
   "file_extension": ".py",
   "mimetype": "text/x-python",
   "name": "python",
   "nbconvert_exporter": "python",
   "pygments_lexer": "ipython3",
   "version": "3.10.13"
  },
  "papermill": {
   "default_parameters": {},
   "duration": 334.563517,
   "end_time": "2024-04-23T19:22:06.769074",
   "environment_variables": {},
   "exception": null,
   "input_path": "__notebook__.ipynb",
   "output_path": "__notebook__.ipynb",
   "parameters": {},
   "start_time": "2024-04-23T19:16:32.205557",
   "version": "2.5.0"
  }
 },
 "nbformat": 4,
 "nbformat_minor": 5
}
